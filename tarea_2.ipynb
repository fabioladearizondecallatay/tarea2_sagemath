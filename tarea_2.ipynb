{
 "cells": [
  {
   "cell_type": "code",
   "execution_count": 7,
   "metadata": {
    "collapsed": false
   },
   "outputs": [
    {
     "name": "stdout",
     "output_type": "stream",
     "text": [
      "El floor del numero es : -4 , y el ceiling : -3\n"
     ]
    }
   ],
   "source": [
    "number = -3.56\n",
    "\n",
    "floor_number = floor(number)\n",
    "ceil_number = ceil(number)\n",
    "\n",
    "print (\"El floor del numero es :\" ,floor_number, \", y el ceiling :\" ,ceil_number)"
   ]
  },
  {
   "cell_type": "code",
   "execution_count": 8,
   "metadata": {
    "collapsed": false
   },
   "outputs": [
    {
     "name": "stdout",
     "output_type": "stream",
     "text": [
      "El cociente de el logaritmo en base e de 100 y del logaritmo en base 10 de 100 es : 2.302585092994046\n"
     ]
    }
   ],
   "source": [
    "log_e_100 = math.log(100)\n",
    "\n",
    "log_10_100 = math.log(100, 10)\n",
    "\n",
    "cociente = log_e_100 / log_10_100\n",
    "\n",
    "print (\"El cociente de el logaritmo en base e de 100 y del logaritmo en base 10 de 100 es :\" ,cociente)"
   ]
  },
  {
   "cell_type": "code",
   "execution_count": 9,
   "metadata": {
    "collapsed": false
   },
   "outputs": [
    {
     "name": "stdout",
     "output_type": "stream",
     "text": [
      "El logaritmo en base dos de 64 es : 6.0\n"
     ]
    }
   ],
   "source": [
    "log_base_2 = math.log(64, 2)\n",
    "print (\"El logaritmo en base 2 de 64 es :\", log_base_2)"
   ]
  },
  {
   "cell_type": "code",
   "execution_count": 11,
   "metadata": {
    "collapsed": false
   },
   "outputs": [
    {
     "name": "stdout",
     "output_type": "stream",
     "text": [
      "e^iπ = -1\n",
      "La aproximación numérica de π = 3.14159265358979\n",
      "Diferencia = -4.14159265358979\n"
     ]
    }
   ],
   "source": [
    "eip = exp(I*pi)\n",
    "approx = pi.n()\n",
    "\n",
    "comparison = eip - approx\n",
    "\n",
    "print(\"e^iπ =\", eip)\n",
    "print(\"La aproximación numérica de π =\", approx)\n",
    "print(\"La diferencia =\", comparison)"
   ]
  },
  {
   "cell_type": "code",
   "execution_count": 13,
   "metadata": {
    "collapsed": false
   },
   "outputs": [
    {
     "name": "stdout",
     "output_type": "stream",
     "text": [
      "sin(π/2) = 1\n",
      "cot(π/4) = 1\n",
      "csc(π/16) = csc(1/16*pi)\n"
     ]
    }
   ],
   "source": [
    "sin_value = sin(pi/2)\n",
    "print(\"sin(π/2) =\", sin_value)\n",
    "\n",
    "cot_value = cot(pi/4)\n",
    "print(\"cot(π/4) =\", cot_value)\n",
    "\n",
    "csc_value = csc(pi/16)\n",
    "print(\"csc(π/16) =\", csc_value)"
   ]
  },
  {
   "cell_type": "code",
   "execution_count": 0,
   "metadata": {
    "collapsed": false
   },
   "outputs": [
   ],
   "source": [
   ]
  }
 ],
 "metadata": {
  "kernelspec": {
   "argv": [
    "sage-10.1",
    "--python",
    "-m",
    "sage.repl.ipython_kernel",
    "--matplotlib=inline",
    "-f",
    "{connection_file}"
   ],
   "display_name": "SageMath 10.1",
   "env": {
   },
   "language": "sagemath",
   "metadata": {
    "cocalc": {
     "description": "Open-source mathematical software system",
     "priority": 10,
     "url": "https://www.sagemath.org/"
    }
   },
   "name": "sage-10.1",
   "resource_dir": "/ext/jupyter/kernels/sage-10.1"
  },
  "language_info": {
   "codemirror_mode": {
    "name": "ipython",
    "version": 3
   },
   "file_extension": ".py",
   "mimetype": "text/x-python",
   "name": "python",
   "nbconvert_exporter": "python",
   "pygments_lexer": "ipython3",
   "version": "3.11.1"
  }
 },
 "nbformat": 4,
 "nbformat_minor": 4
}